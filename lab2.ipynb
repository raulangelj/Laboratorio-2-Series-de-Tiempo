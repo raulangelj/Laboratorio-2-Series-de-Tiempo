{
 "cells": [
  {
   "cell_type": "markdown",
   "metadata": {},
   "source": [
    "\n",
    "# Laboratorio-2-Series-de-Tiempo\n",
    "\n",
    "Raul Angel Jimenez 19017\n",
    "\n",
    "Donaldo Garcia 19683\n",
    "link al repo: https://github.com/raulangelj/Laboratorio-2-Series-de-Tiempo"
   ]
  },
  {
   "cell_type": "code",
   "execution_count": null,
   "metadata": {},
   "outputs": [],
   "source": []
  }
 ],
 "metadata": {
  "language_info": {
   "name": "python"
  },
  "orig_nbformat": 4
 },
 "nbformat": 4,
 "nbformat_minor": 2
}
